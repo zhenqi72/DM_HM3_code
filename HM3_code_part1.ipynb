{
 "cells": [
  {
   "cell_type": "code",
   "execution_count": 32,
   "metadata": {},
   "outputs": [],
   "source": [
    "import math\n",
    "import random\n",
    "import time\n",
    "import numpy as np\n",
    "from sklearn.metrics.pairwise import cosine_similarity\n",
    "#from tqdm import tqdm\n",
    "from tqdm.notebook import tqdm\n",
    "from collections import Counter"
   ]
  },
  {
   "cell_type": "code",
   "execution_count": 33,
   "metadata": {},
   "outputs": [],
   "source": [
    "# cosine similarity\n",
    "def cosine_similarity(A, B):\n",
    "    dot_product = np.dot(A, B.T)\n",
    "    norm_a = np.linalg.norm(A)\n",
    "    norm_b = np.linalg.norm(B)\n",
    "    return dot_product / (norm_a * norm_b)\n",
    "\n",
    "#load data from CSV\n",
    "def isValidNumberString(s):\n",
    "  if len(s) == 0:\n",
    "    return False\n",
    "  if  len(s) > 1 and s[0] == \"-\":\n",
    "      s = s[1:]\n",
    "  for c in s:\n",
    "    if c not in \"0123456789.\":\n",
    "      return False\n",
    "  return True\n",
    "\n",
    "def stringsToNumbers(myList):\n",
    "    for i in range(len(myList)):\n",
    "        if (isValidNumberString(myList[i])):\n",
    "            myList[i] = float(myList[i])\n",
    "\n",
    "def lineToTuple(line):\n",
    "    # remove leading/trailing witespace and newlines\n",
    "    cleanLine = line.strip()\n",
    "    # get rid of quotes\n",
    "    cleanLine = cleanLine.replace('\"', '')\n",
    "    # separate the fields\n",
    "    lineList = cleanLine.split(\",\")\n",
    "    # convert strings into numbers\n",
    "    stringsToNumbers(lineList)\n",
    "    lineTuple = tuple(lineList)\n",
    "    return lineTuple\n",
    "\n",
    "def loadCSV(fileName):\n",
    "    fileHandler = open(fileName, \"rt\")\n",
    "    lines = fileHandler.readlines()\n",
    "    fileHandler.close()\n",
    "    del lines[0] # remove the header\n",
    "    dataset = []\n",
    "    for line in lines:\n",
    "        instance = lineToTuple(line)\n",
    "        dataset.append(instance)\n",
    "    return dataset\n",
    "\n",
    "#calculate the distance.\n",
    "def distance(instance1, instance2,dist_type):\n",
    "    dist = 0\n",
    "    if instance1 == None or instance2 == None:\n",
    "        return float(\"inf\")\n",
    "    elif (dist_type == \"Euclidean\"):\n",
    "        for i in range(1, len(instance1)):\n",
    "            dist += (instance1[i] - instance2[i])**2\n",
    "    elif(dist_type == \"Cosine\"):\n",
    "        instance1_temp = np.array(instance1[1:]).reshape(1,-1)\n",
    "        instance2_temp = np.array(instance2[1:]).reshape(1,-1)\n",
    "        dist = 1-cosine_similarity(instance1_temp,instance2_temp)\n",
    "    else:\n",
    "        min = 0\n",
    "        max = 0\n",
    "        for i in range(1, len(instance1)):\n",
    "            if (instance1[i] > instance2[i]):\n",
    "                min += instance2[i]\n",
    "                max += instance1[i]\n",
    "            else:\n",
    "                min += instance1[i]\n",
    "                max += instance2[i]\n",
    "        dist = 1-min/max\n",
    "        \n",
    "    return dist\n",
    "\n",
    "#assign data point to center\n",
    "def createEmptyListOfLists(numSubLists):\n",
    "    myList = []\n",
    "    for i in range(numSubLists):\n",
    "        myList.append([])\n",
    "    return myList\n",
    "\n",
    "def assign(instance, centroids,dist_type):\n",
    "    minDistance = distance(instance, centroids[0],dist_type)\n",
    "    minDistanceIndex = 0\n",
    "    for i in range(1, len(centroids)):\n",
    "        d = distance(instance, centroids[i],dist_type)\n",
    "        if (d < minDistance):\n",
    "            minDistance = d\n",
    "            minDistanceIndex = i\n",
    "    return minDistanceIndex\n",
    "\n",
    "def assignAll(instances, centroids,dist_type):\n",
    "    clusters = createEmptyListOfLists(len(centroids))\n",
    "    clusters_item_number = createEmptyListOfLists(len(centroids))\n",
    "    for i,instance in enumerate(instances):\n",
    "        clusterIndex = assign(instance, centroids,dist_type)\n",
    "        clusters[clusterIndex].append(instance)\n",
    "        clusters_item_number[clusterIndex].append(i)\n",
    "    return clusters,clusters_item_number\n",
    "#calculate next center\n",
    "def meanInstance(name, instanceList):\n",
    "    numInstances = len(instanceList)\n",
    "    if (numInstances == 0):\n",
    "        return\n",
    "    numAttributes = len(instanceList[0])\n",
    "    means = [name] + [0] * (numAttributes-1)\n",
    "    for instance in instanceList:\n",
    "        for i in range(1, numAttributes):\n",
    "            means[i] += instance[i]\n",
    "    for i in range(1, numAttributes):\n",
    "        means[i] /= float(numInstances)\n",
    "    return tuple(means)\n",
    "\n",
    "def computeCentroids(clusters):\n",
    "    centroids = []\n",
    "    for i in range(len(clusters)):\n",
    "        name = \"centroid\" + str(i)\n",
    "        centroid = meanInstance(name, clusters[i])\n",
    "        centroids.append(centroid)\n",
    "    return centroids\n",
    "\n",
    "#computer SSE of clustering\n",
    "def computeWithinss(clusters, centroids,dist_type):\n",
    "    result = 0\n",
    "    for i in range(len(centroids)):\n",
    "        centroid = centroids[i]\n",
    "        cluster = clusters[i]\n",
    "        for instance in cluster:\n",
    "            if dist_type == \"Euclidean\":\n",
    "                result += distance(instance,centroid,dist_type)\n",
    "            elif dist_type == \"Cosine\":\n",
    "                result += distance(instance,centroid,dist_type)**2\n",
    "            else:\n",
    "                result += distance(instance,centroid,dist_type)**2\n",
    "    return result\n",
    "\n",
    "\n"
   ]
  },
  {
   "cell_type": "code",
   "execution_count": 34,
   "metadata": {},
   "outputs": [],
   "source": [
    "def kmeans(data, k,dist_type,initcenter=None):\n",
    "    result = {}\n",
    "    if (initcenter == None or len(initcenter) < k):\n",
    "        random.seed(time.time())\n",
    "        center = random.sample(data, k)\n",
    "    else:\n",
    "        center = initcenter\n",
    "        \n",
    "    prevcenter = []\n",
    "    #clusters:includes point in this cluster\n",
    "    #center: center of each cluster\n",
    "    pbar = tqdm(total = 100,desc=\"kmeans processing\")\n",
    "    i = 0\n",
    "    withinss = 0\n",
    "    withinss_pre = 0\n",
    "    condition = 3\n",
    "    while (condition>=3):\n",
    "        withinss_pre = withinss\n",
    "        clusters,clusters_item_number = assignAll(data, center,dist_type)\n",
    "        prevcenter = center\n",
    "        center = computeCentroids(clusters)\n",
    "        withinss = computeWithinss(clusters, center,dist_type)\n",
    "        i += 1\n",
    "        pbar.update(1)\n",
    "        if (center == prevcenter):\n",
    "            condition = 0\n",
    "            condition_str = \"no change in centroid\"\n",
    "        if (withinss_pre<withinss and i>1):\n",
    "            condition = 1\n",
    "            condition_str = \"increase in next interation\"\n",
    "        if (i >=100):\n",
    "            condition = 2\n",
    "            condition_str = \"excede max iteration\"\n",
    "    pbar.close()\n",
    "        \n",
    "    result[\"clusters\"] = clusters\n",
    "    result[\"center\"] = center\n",
    "    result[\"withinss\"] = withinss\n",
    "    result[\"clusters_item_number\"] = clusters_item_number\n",
    "    return result,i,condition_str"
   ]
  },
  {
   "cell_type": "code",
   "execution_count": 3,
   "metadata": {},
   "outputs": [
    {
     "data": {
      "application/vnd.jupyter.widget-view+json": {
       "model_id": "17dbef0883eb407b9c658b0a6e2e8feb",
       "version_major": 2,
       "version_minor": 0
      },
      "text/plain": [
       "training case:   0%|          | 0/3 [00:00<?, ?it/s]"
      ]
     },
     "metadata": {},
     "output_type": "display_data"
    },
    {
     "data": {
      "application/vnd.jupyter.widget-view+json": {
       "model_id": "f851245310354d508a339e583f23053e",
       "version_major": 2,
       "version_minor": 0
      },
      "text/plain": [
       "kmeans processing:   0%|          | 0/500 [00:00<?, ?it/s]"
      ]
     },
     "metadata": {},
     "output_type": "display_data"
    },
    {
     "name": "stdout",
     "output_type": "stream",
     "text": [
      "finish Euclidean iteration:42\n"
     ]
    },
    {
     "data": {
      "application/vnd.jupyter.widget-view+json": {
       "model_id": "416a0fb98bd5468cbf2abd8dfb232f21",
       "version_major": 2,
       "version_minor": 0
      },
      "text/plain": [
       "kmeans processing:   0%|          | 0/500 [00:00<?, ?it/s]"
      ]
     },
     "metadata": {},
     "output_type": "display_data"
    },
    {
     "name": "stdout",
     "output_type": "stream",
     "text": [
      "finish Cosine iteration:26\n"
     ]
    },
    {
     "data": {
      "application/vnd.jupyter.widget-view+json": {
       "model_id": "c8b034f584484ca4b2cf5f676a19b0e9",
       "version_major": 2,
       "version_minor": 0
      },
      "text/plain": [
       "kmeans processing:   0%|          | 0/500 [00:00<?, ?it/s]"
      ]
     },
     "metadata": {},
     "output_type": "display_data"
    },
    {
     "name": "stdout",
     "output_type": "stream",
     "text": [
      "finish Jarcard iteration:34\n"
     ]
    }
   ],
   "source": [
    "dataset = loadCSV(\"./kmeans_data/data.csv\")\n",
    "label = loadCSV(\"./kmeans_data/label.csv\")\n",
    "for i in tqdm(range(3),desc=\"training case\"):\n",
    "    if i == 0:\n",
    "        result,iteration,condition = kmeans(dataset,10,\"Euclidean\")\n",
    "    elif i == 1:\n",
    "        result,iteration,condition = kmeans(dataset,10,\"Cosine\")\n",
    "    else:\n",
    "        result,iteration,condition = kmeans(dataset,10,\"Jarcard\")\n",
    "    \n",
    "    if i == 0:\n",
    "        print(\"finish Euclidean iteration:{}\".format(iteration))\n",
    "    elif i == 1:\n",
    "        print(\"finish Cosine iteration:{}\".format(iteration))    \n",
    "    else:\n",
    "        print(\"finish Jarcard iteration:{}\".format(iteration))"
   ]
  },
  {
   "cell_type": "code",
   "execution_count": 35,
   "metadata": {},
   "outputs": [],
   "source": [
    "def vote_labeling(result, labels):\n",
    "    cluster_labels = []\n",
    "    for cluster_indices in result[\"clusters_item_number\"]:\n",
    "        # Extract labels for each item in the cluster\n",
    "        cluster_item_labels = [labels[index][0] for index in cluster_indices]\n",
    "        # Count and find the most common label\n",
    "        most_common_label, _ = Counter(cluster_item_labels).most_common(1)[0][0]\n",
    "        cluster_labels.append(most_common_label)\n",
    "    return cluster_labels"
   ]
  },
  {
   "cell_type": "code",
   "execution_count": 36,
   "metadata": {},
   "outputs": [],
   "source": [
    "def calculate_accuracy(clusters_item_number, cluster_labels, actual_labels):\n",
    "    correct_predictions = 0\n",
    "    total_predictions = len(actual_labels)\n",
    "    \n",
    "    for cluster_idx, data_point_indices in enumerate(clusters_item_number):\n",
    "        for idx in data_point_indices:\n",
    "            if cluster_labels[cluster_idx] == actual_labels[idx]:\n",
    "                correct_predictions += 1\n",
    "                \n",
    "    accuracy = correct_predictions / total_predictions\n",
    "    return accuracy"
   ]
  },
  {
   "cell_type": "code",
   "execution_count": 22,
   "metadata": {},
   "outputs": [
    {
     "data": {
      "application/vnd.jupyter.widget-view+json": {
       "model_id": "caf6197296114a189a35953ffe410563",
       "version_major": 2,
       "version_minor": 0
      },
      "text/plain": [
       "Training case:   0%|          | 0/3 [00:00<?, ?it/s]"
      ]
     },
     "metadata": {},
     "output_type": "display_data"
    },
    {
     "data": {
      "application/vnd.jupyter.widget-view+json": {
       "model_id": "3aec08b414a74f99b9cc491774e2ff4f",
       "version_major": 2,
       "version_minor": 0
      },
      "text/plain": [
       "kmeans processing:   0%|          | 0/500 [00:00<?, ?it/s]"
      ]
     },
     "metadata": {},
     "output_type": "display_data"
    },
    {
     "name": "stdout",
     "output_type": "stream",
     "text": [
      "Finished Euclidean iteration: 49\n",
      "Euclidean Accuracy: 0.0\n",
      "SSE of Euclidean is 25320392282.85377, stop condition is no change in centroid \n"
     ]
    },
    {
     "data": {
      "application/vnd.jupyter.widget-view+json": {
       "model_id": "ab500f5ee50444d5bbf94543fe49e627",
       "version_major": 2,
       "version_minor": 0
      },
      "text/plain": [
       "kmeans processing:   0%|          | 0/500 [00:00<?, ?it/s]"
      ]
     },
     "metadata": {},
     "output_type": "display_data"
    },
    {
     "name": "stdout",
     "output_type": "stream",
     "text": [
      "Finished Cosine iteration: 38\n",
      "Cosine Accuracy: 0.0\n",
      "SSE of Cosine is [[696.21130772]], stop condition is increase in next interation \n"
     ]
    },
    {
     "data": {
      "application/vnd.jupyter.widget-view+json": {
       "model_id": "262f9257c9ad483da054aa18983f3cd4",
       "version_major": 2,
       "version_minor": 0
      },
      "text/plain": [
       "kmeans processing:   0%|          | 0/500 [00:00<?, ?it/s]"
      ]
     },
     "metadata": {},
     "output_type": "display_data"
    },
    {
     "name": "stdout",
     "output_type": "stream",
     "text": [
      "Finished Jaccard iteration: 15\n",
      "Jaccard Accuracy: 0.0\n",
      "SSE of Jaccard is 3718.262145660273, stop condition is increase in next interation \n"
     ]
    }
   ],
   "source": [
    "dataset = loadCSV(\"./kmeans_data/data.csv\")\n",
    "label = loadCSV(\"./kmeans_data/label.csv\")\n",
    "\n",
    "for i in tqdm(range(3), desc=\"Training case\"):\n",
    "    dist_type = \"Euclidean\" if i == 0 else \"Cosine\" if i == 1 else \"Jaccard\"\n",
    "    if i == 0:\n",
    "        result_0, iteration,condition = kmeans(dataset, 10, dist_type)\n",
    "    elif i == 1:\n",
    "        result_1, iteration,condition = kmeans(dataset, 10, dist_type)\n",
    "    elif i == 2:\n",
    "        result_2, iteration,condition = kmeans(dataset, 10, dist_type)\n",
    "    print(f\"Finished {dist_type} iteration: {iteration}\")\n",
    "    \n",
    "    # Label each cluster by majority vote\n",
    "    SSEs=result[\"withinss\"]\n",
    "    print(f\"SSE of {dist_type} is {SSEs}, stop condition is {condition} \")\n"
   ]
  },
  {
   "cell_type": "code",
   "execution_count": 23,
   "metadata": {},
   "outputs": [
    {
     "name": "stdout",
     "output_type": "stream",
     "text": [
      "[8.0, 4.0, 1.0, 3.0, 0.0, 7.0, 2.0, 6.0, 9.0, 6.0]\n"
     ]
    }
   ],
   "source": [
    "cluster_labels = vote_labeling(result, label)\n",
    "accuracy = calculate_accuracy(result[\"clusters_item_number\"], cluster_labels, label)\n",
    "print(f\"{dist_type} Accuracy: {accuracy}\")\n"
   ]
  },
  {
   "cell_type": "code",
   "execution_count": null,
   "metadata": {},
   "outputs": [],
   "source": []
  },
  {
   "cell_type": "code",
   "execution_count": null,
   "metadata": {},
   "outputs": [],
   "source": []
  }
 ],
 "metadata": {
  "kernelspec": {
   "display_name": "Python 3 (ipykernel)",
   "language": "python",
   "name": "python3"
  },
  "language_info": {
   "codemirror_mode": {
    "name": "ipython",
    "version": 3
   },
   "file_extension": ".py",
   "mimetype": "text/x-python",
   "name": "python",
   "nbconvert_exporter": "python",
   "pygments_lexer": "ipython3",
   "version": "3.8.18"
  }
 },
 "nbformat": 4,
 "nbformat_minor": 4
}
